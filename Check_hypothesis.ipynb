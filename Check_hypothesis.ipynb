{
 "cells": [
  {
   "cell_type": "markdown",
   "metadata": {},
   "source": [
    "### На любом языке программирования написать программу, реализующую разобранные на занятии критерии проверки гипотез о равенстве вероятностей и средних значений. В качестве ответа программа должна возвращать - значение статистики критерия, ответ на вопрос принимается или отвергается основная гипотеза на выбранном уровне значимости, Р-значение. Ссылку на код на гитхабе прислать в чат с преподавателем."
   ]
  },
  {
   "cell_type": "code",
   "execution_count": 3,
   "metadata": {},
   "outputs": [],
   "source": [
    "import re\n",
    "import numpy as np\n",
    "from scipy.stats import norm\n",
    "\n",
    "def type_input():\n",
    "    task_type = input('Укажите тип задачи: a) о равенстве вероятностей или b) о средних значениях:\\t')\n",
    "    while task_type not in ['a', 'b']:\n",
    "        task_type = input('Укажите a или b:\\t')\n",
    "    hyp = input('Введите альтернативную гипотезу:\\t')\n",
    "    HA = re.findall('<|>|!=', hyp)[0]\n",
    "    return task_type, HA\n",
    "\n",
    "def trust_area(HA, t):\n",
    "    alpha = float(input('Введите уровень значимости альфа:\\t'))\n",
    "    if HA == '<':\n",
    "        ul = norm.ppf(alpha)\n",
    "        ur = 100\n",
    "        p_value = norm.cdf(t)\n",
    "    elif HA == '>':\n",
    "        ul = -100\n",
    "        ur = norm.ppf(1 - alpha)\n",
    "        p_value = 1 - norm.cdf(t)\n",
    "    elif HA == '!=':\n",
    "        ul = norm.ppf(alpha / 2)\n",
    "        ur = norm.ppf(1-alpha / 2)\n",
    "        p_value = np.min([2 * norm.cdf(t), 2 * (1 - norm.cdf(t))])\n",
    "    return ul, ur, p_value, alpha\n",
    "\n",
    "def possibility_solver():\n",
    "    a1 = float(input('Введите количество благоприятных событий в варианте 1:\\t'))\n",
    "    n1 = float(input('Введите общее количество событий в варианте 1:\\t'))\n",
    "    a2 = float(input('Введите количество благоприятных событий в варианте 2:\\t'))\n",
    "    n2 = float(input('Введите общее количество событий в варианте 2:\\t'))\n",
    "    p0 = (a1 + a2) / (n1 + n2)\n",
    "    p1 = a1 / n1\n",
    "    p2 = a2 / n2\n",
    "    t = (p1 - p2) / (p0 * (1 - p0) * (1 / n1 + 1 / n2)) ** 0.5\n",
    "    return t\n",
    "\n",
    "def series_solver():\n",
    "    x = input('Введите серию 1 (разделитель между значениями - пробел, между десятми и целыми - точка):\\t')\n",
    "    y = input('Введите серию 2 (разделитель между значениями - пробел, между десятми и целыми - точка):\\t')\n",
    "    x = [float(i) for i in x.split()]\n",
    "    y = [float(i) for i in y.split()]\n",
    "    total = x.copy()\n",
    "    total.extend(y)\n",
    "    total.sort()\n",
    "    total_dict = {}\n",
    "    for i, j in enumerate(total):\n",
    "        if j not in total_dict.keys():\n",
    "            total_dict[j] = [i + 1]\n",
    "        else:\n",
    "            total_dict[j].append(i + 1)\n",
    "    for key in total_dict.keys():\n",
    "        total_dict[key] = np.mean(total_dict[key])\n",
    "    # Нахождение критерия Вилкоксона как сумма рангов 2ой выборки\n",
    "    w = 0\n",
    "    for elem in y:\n",
    "        w += total_dict[elem]\n",
    "    # Расчет центрированного и нормированного критерия Вилкоксона\n",
    "    m = len(x)\n",
    "    n = len(y)\n",
    "    E_w = 0.5 * n * (m + n + 1)\n",
    "    D_w = (m * n * (m + n + 1))**2\n",
    "    t = (w - E_w)/(D_w)**0.5\n",
    "    return t\n",
    "    \n",
    "    \n",
    "def check_hypothesis():\n",
    "    task_type, HA = type_input()\n",
    "    \n",
    "    if task_type == 'a':\n",
    "        t = possibility_solver()\n",
    "    else:\n",
    "        t = series_solver()\n",
    "        \n",
    "    ul, ur, p_value, alpha = trust_area(HA, t)\n",
    "    \n",
    "    if (t > ul) & (t < ur):\n",
    "        print('Гипотеза H0 принимается на уровне значимости {}'.format(alpha))\n",
    "    else:\n",
    "        print('На уровне значимости {} гипотеза H0 не может быть принята - принимаем гипотезу HA'.format(alpha))\n",
    "        \n",
    "    print('Уровень значимости = {}, p-value = {}'.format(alpha, p_value))"
   ]
  },
  {
   "cell_type": "code",
   "execution_count": 4,
   "metadata": {},
   "outputs": [
    {
     "name": "stdout",
     "output_type": "stream",
     "text": [
      "Укажите тип задачи: a) о равенстве вероятностей или b) о средних значениях:\ta\n",
      "Введите альтернативную гипотезу:\tp1<p2\n",
      "Введите количество благоприятных событий в варианте 1:\t12\n",
      "Введите общее количество событий в варианте 1:\t546\n",
      "Введите количество благоприятных событий в варианте 2:\t21\n",
      "Введите общее количество событий в варианте 2:\t456\n",
      "Введите уровень значимости альфа:\t0.05\n",
      "На уровне значимости 0.05 гипотеза H0 не может быть принята - принимаем гипотезу HA\n",
      "Уровень значимости = 0.05, p-value = 0.01673334754290018\n"
     ]
    }
   ],
   "source": [
    "check_hypothesis()"
   ]
  },
  {
   "cell_type": "code",
   "execution_count": null,
   "metadata": {},
   "outputs": [],
   "source": []
  }
 ],
 "metadata": {
  "kernelspec": {
   "display_name": "Python 3",
   "language": "python",
   "name": "python3"
  },
  "language_info": {
   "codemirror_mode": {
    "name": "ipython",
    "version": 3
   },
   "file_extension": ".py",
   "mimetype": "text/x-python",
   "name": "python",
   "nbconvert_exporter": "python",
   "pygments_lexer": "ipython3",
   "version": "3.6.8"
  }
 },
 "nbformat": 4,
 "nbformat_minor": 2
}
